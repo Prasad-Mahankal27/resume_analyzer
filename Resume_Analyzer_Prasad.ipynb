{
 "cells": [
  {
   "cell_type": "code",
   "execution_count": 2,
   "id": "9a104c05-5c09-4481-a43f-bd8f221e1d18",
   "metadata": {},
   "outputs": [
    {
     "name": "stdout",
     "output_type": "stream",
     "text": [
      "Defaulting to user installation because normal site-packages is not writeable\n",
      "Requirement already satisfied: pypdf2 in c:\\users\\prasad\\appdata\\roaming\\python\\python312\\site-packages (3.0.1)\n",
      "Note: you may need to restart the kernel to use updated packages.\n"
     ]
    },
    {
     "name": "stderr",
     "output_type": "stream",
     "text": [
      "\n",
      "[notice] A new release of pip is available: 25.0.1 -> 25.1.1\n",
      "[notice] To update, run: python.exe -m pip install --upgrade pip\n"
     ]
    }
   ],
   "source": [
    "%pip install pypdf2"
   ]
  },
  {
   "cell_type": "code",
   "execution_count": 3,
   "id": "236a1767-363d-493a-982d-8233fe392492",
   "metadata": {},
   "outputs": [
    {
     "name": "stdout",
     "output_type": "stream",
     "text": [
      "Defaulting to user installation because normal site-packages is not writeable\n",
      "Requirement already satisfied: docx2txt in c:\\users\\prasad\\appdata\\roaming\\python\\python312\\site-packages (0.9)\n",
      "Note: you may need to restart the kernel to use updated packages.\n"
     ]
    },
    {
     "name": "stderr",
     "output_type": "stream",
     "text": [
      "\n",
      "[notice] A new release of pip is available: 25.0.1 -> 25.1.1\n",
      "[notice] To update, run: python.exe -m pip install --upgrade pip\n"
     ]
    }
   ],
   "source": [
    "%pip install docx2txt"
   ]
  },
  {
   "cell_type": "code",
   "execution_count": 4,
   "id": "982a1b55-db64-421d-87bc-79f2a26f11fc",
   "metadata": {},
   "outputs": [
    {
     "name": "stdout",
     "output_type": "stream",
     "text": [
      "\n",
      "**Resume Details:**\n",
      "Name: Prasad Mahankal \n",
      "Email: prasad.mahankal27@gmail.com\n",
      "Phone: None\n",
      "Skills: ['Java', 'C++']\n",
      "Education: ['Bachelor']\n"
     ]
    }
   ],
   "source": [
    "#Resume Parser - Prasad Mahankal\n",
    "import re\n",
    "import docx2txt\n",
    "from PyPDF2 import PdfReader\n",
    "\n",
    "def extract_text_from_pdf(pdf_path):\n",
    "    text = \"\"\n",
    "    with open(pdf_path, \"rb\") as file:\n",
    "        reader = PdfReader(file)\n",
    "        for page in reader.pages:\n",
    "            text += page.extract_text() + \"\\n\"\n",
    "    return text.strip()\n",
    "\n",
    "\n",
    "def extract_text_from_docx(docx_path):\n",
    "    return docx2txt.process(docx_path).strip()\n",
    "\n",
    "\n",
    "def extract_email(text):\n",
    "    match = re.search(r\"[a-zA-Z0-9._%+-]+@[a-zA-Z0-9.-]+\\.[a-zA-Z]{2,4}\", text)\n",
    "    return match.group(0) if match else None\n",
    "\n",
    "\n",
    "def extract_phone(text):\n",
    "    match = re.search(r\"\\+?\\d[\\d\\s-]{8,14}\\d\", text)\n",
    "    return match.group(0) if match else None\n",
    "\n",
    "\n",
    "def extract_skills(text):\n",
    "    skills_db = [\"Python\", \"Java\", \"C++\", \"Machine Learning\", \"Data Science\", \"Flask\", \"Django\"]\n",
    "    return [skill for skill in skills_db if skill.lower() in text.lower()]\n",
    "\n",
    "\n",
    "def extract_name(text):\n",
    "    return text.split(\"\\n\")[0] if text else None\n",
    "\n",
    "def extract_education(text):\n",
    "    edu_keywords = [\"Bachelor\", \"Master\", \"PhD\", \"B.Sc\", \"M.Sc\", \"B.Tech\", \"M.Tech\", \"B.E\", \"M.E\"]\n",
    "    return [edu for edu in edu_keywords if edu.lower() in text.lower()]\n",
    "\n",
    "\n",
    "def parse_resume(file_path):\n",
    "    file_type = file_path.split(\".\")[-1].lower()\n",
    "   \n",
    "    if file_type == \"pdf\":\n",
    "        text = extract_text_from_pdf(file_path)\n",
    "    elif file_type == \"docx\":\n",
    "        text = extract_text_from_docx(file_path)\n",
    "    else:\n",
    "        print(\"Unsupported file type!!\")\n",
    "        return\n",
    "\n",
    "    parsed_data = {\n",
    "        \"Name\": extract_name(text),\n",
    "        \"Email\": extract_email(text),\n",
    "        \"Phone\": extract_phone(text),\n",
    "        \"Skills\": extract_skills(text),\n",
    "        \"Education\": extract_education(text),\n",
    "    }\n",
    "\n",
    "    print(\"\\n**Resume Details:**\")\n",
    "    for key, value in parsed_data.items():\n",
    "        print(f\"{key}: {value}\")\n",
    "\n",
    "if __name__ == \"__main__\":\n",
    "    file_path = r\"C:\\Users\\Prasad\\Downloads\\Prasad Ajay Mahankal.pdf\"\n",
    "    parse_resume(file_path)"
   ]
  },
  {
   "cell_type": "code",
   "execution_count": null,
   "id": "5472b393-bc80-488a-93ec-fc4dfd00fe27",
   "metadata": {},
   "outputs": [],
   "source": []
  }
 ],
 "metadata": {
  "kernelspec": {
   "display_name": "Python 3",
   "language": "python",
   "name": "python3"
  },
  "language_info": {
   "codemirror_mode": {
    "name": "ipython",
    "version": 3
   },
   "file_extension": ".py",
   "mimetype": "text/x-python",
   "name": "python",
   "nbconvert_exporter": "python",
   "pygments_lexer": "ipython3",
   "version": "3.12.2"
  }
 },
 "nbformat": 4,
 "nbformat_minor": 5
}
